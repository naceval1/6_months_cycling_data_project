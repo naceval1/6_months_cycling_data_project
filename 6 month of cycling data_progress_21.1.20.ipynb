{
 "cells": [
  {
   "cell_type": "markdown",
   "metadata": {},
   "source": [
    "6 MONTHS OF CYCLING DATA\n",
    "\n",
    "As a cyclist aficionado, I have gathered bicycle data from two different sources: bicycle rides from my bicycles recorded on a bicycle speedometer and bicycle rides from bicing (Barcelona's bicycle sharing scheme) obtained from their website. My bicycle rides were made from 01/07/2019 to 31/12/2019. \n",
    "\n",
    "I recorded the data gathered from the bicycle speedometer every morning after a daily cycle. The information obtained includes: date, elapsed time, trip distance, average speed, maximum speed, calorie consumption, carbon offset, total distance. On the other hand, the data obtained from the bicing website includes: initial time, end time, duration, cost. \n",
    "\n",
    "The purpose to this project is to work with this data in order to find out information about my cycling habits during the 6 months period. \n",
    "\n",
    "I would like to find out: \n",
    "•\tEstimate the carbon offset. trip distance, average speed, calories consumption and total distance of the bicing usage by using data from the bicycle speedometer.\n",
    "•\tFind out the bicing, speedometer and combined total distance\n",
    "•\tWhich day / week / month of most / mean / least bicycle use?\n",
    "•\tWhich bicycle was used the most?\n",
    "•\t How much total carbon offset was contribute by using the bicycle? Which month was the highest contributor\n",
    "•\tHow many total calories were burned? Does the weather impact this number?\n",
    "FILES:\n",
    "bici data.csv\n",
    "bicing data.csv\n"
   ]
  },
  {
   "cell_type": "code",
   "execution_count": 111,
   "metadata": {},
   "outputs": [],
   "source": [
    "# import libraries numpy, datetime and pandas\n",
    "import numpy as np\n",
    "import pandas as pd\n",
    "import datetime as dt\n"
   ]
  },
  {
   "cell_type": "code",
   "execution_count": 112,
   "metadata": {
    "scrolled": false
   },
   "outputs": [],
   "source": [
    "# read CSV files \n",
    "speedometer = pd.read_csv(open('bici_data.csv'))\n",
    "bike_sharing = pd.read_csv(open('bicing_data.csv'))"
   ]
  },
  {
   "cell_type": "code",
   "execution_count": 113,
   "metadata": {},
   "outputs": [
    {
     "name": "stdout",
     "output_type": "stream",
     "text": [
      "     Fecha elapsed time  trip distance  average speed  maximun speed  \\\n",
      "0   6/8/19      1.50.13          34.57           18.8           38.8   \n",
      "1   6/9/19      1.07.39          17.23           15.3           32.7   \n",
      "2  6/10/19       .47.47          16.45           20.7           36.8   \n",
      "3  6/11/19          NaN            NaN            NaN            NaN   \n",
      "4  6/12/19      1.45.41          35.15           19.9           39.5   \n",
      "\n",
      "   calorie consumption  carbon offset  total distance  \n",
      "0                498.0           5.18            95.0  \n",
      "1                200.0           2.58           112.0  \n",
      "2                252.0           2.46           129.0  \n",
      "3                  NaN            NaN             NaN  \n",
      "4                533.0           5.27           164.0  \n",
      "        Fecha   inicio       fin  Duracion Coste\n",
      "0  28/12/2019  9:58:42  10:05:53  12:07:11     0\n",
      "1  28/12/2019  6:38:35   6:41:57  12:03:22  0:35\n",
      "2  28/12/2019  4:11:11   4:14:35  12:03:24  0:35\n",
      "3  28/12/2019  2:24:55   2:44:15  12:19:20     0\n",
      "4  28/12/2019  1:58:12   2:08:08  12:09:56  0:35\n"
     ]
    }
   ],
   "source": [
    "# check the first 5 rows to check if the files are correctly uploaded\n",
    "print(speedometer.head())\n",
    "print(bike_sharing.head())"
   ]
  },
  {
   "cell_type": "code",
   "execution_count": 114,
   "metadata": {},
   "outputs": [],
   "source": [
    "#code to change titles\n",
    "# for speedometer = [ 'date', 'elapsed_time', 'trip_distance', 'average_speed', 'maximum_speed', 'calorie_consumption', \n",
    "#'carbon_offset', 'total_distance']\n",
    "# for bike_sharing = ['date', initial_time', 'end_time', 'duration', 'cost']"
   ]
  },
  {
   "cell_type": "code",
   "execution_count": 115,
   "metadata": {},
   "outputs": [
    {
     "name": "stdout",
     "output_type": "stream",
     "text": [
      "Index(['Fecha', 'elapsed time', 'trip distance', 'average speed',\n",
      "       'maximun speed', 'calorie consumption', 'carbon offset',\n",
      "       'total distance'],\n",
      "      dtype='object')\n",
      "Index(['Fecha', 'inicio', 'fin', 'Duracion', 'Coste'], dtype='object')\n"
     ]
    }
   ],
   "source": [
    "print(speedometer.columns)\n",
    "print(bike_sharing.columns)"
   ]
  },
  {
   "cell_type": "code",
   "execution_count": 158,
   "metadata": {},
   "outputs": [],
   "source": [
    "speedometer.columns = ['date', 'elapsed_time', 'trip_distance', 'average_speed', 'maximum_speed', 'calorie_consumption', \n",
    "'carbon_offset', 'total_distance']\n",
    "bike_sharing.columns = ['date','initial_time','end_time', 'elapsed_time', 'cost']"
   ]
  },
  {
   "cell_type": "code",
   "execution_count": 159,
   "metadata": {},
   "outputs": [
    {
     "name": "stdout",
     "output_type": "stream",
     "text": [
      "Index(['date', 'elapsed_time', 'trip_distance', 'average_speed',\n",
      "       'maximum_speed', 'calorie_consumption', 'carbon_offset',\n",
      "       'total_distance'],\n",
      "      dtype='object')\n",
      "Index(['date', 'initial_time', 'end_time', 'elapsed_time', 'cost'], dtype='object')\n"
     ]
    }
   ],
   "source": [
    "print(speedometer.columns)\n",
    "print(bike_sharing.columns)"
   ]
  },
  {
   "cell_type": "code",
   "execution_count": 120,
   "metadata": {},
   "outputs": [],
   "source": [
    "# for speedometer: drop nan values"
   ]
  },
  {
   "cell_type": "code",
   "execution_count": 121,
   "metadata": {},
   "outputs": [],
   "source": [
    "speedometer = speedometer.dropna()"
   ]
  },
  {
   "cell_type": "code",
   "execution_count": 122,
   "metadata": {},
   "outputs": [
    {
     "name": "stdout",
     "output_type": "stream",
     "text": [
      "      date elapsed_time  trip_distance  average_speed  maximum_speed  \\\n",
      "0   6/8/19      1.50.13          34.57           18.8           38.8   \n",
      "1   6/9/19      1.07.39          17.23           15.3           32.7   \n",
      "2  6/10/19       .47.47          16.45           20.7           36.8   \n",
      "4  6/12/19      1.45.41          35.15           19.9           39.5   \n",
      "5  6/13/19      1.55.31          35.05           18.2           40.3   \n",
      "\n",
      "   calorie_consumption  carbon_offset  total_distance  \n",
      "0                498.0           5.18            95.0  \n",
      "1                200.0           2.58           112.0  \n",
      "2                252.0           2.46           129.0  \n",
      "4                533.0           5.27           164.0  \n",
      "5                489.0           5.25           199.0  \n"
     ]
    }
   ],
   "source": [
    "print(speedometer.head())"
   ]
  },
  {
   "cell_type": "code",
   "execution_count": 128,
   "metadata": {},
   "outputs": [],
   "source": [
    "# for speedometer: replace in 'elapsed_time' the . to :\n"
   ]
  },
  {
   "cell_type": "code",
   "execution_count": 153,
   "metadata": {},
   "outputs": [],
   "source": [
    "speedometer['elapsed_time'] = speedometer['elapsed_time'].str.replace('.',':')"
   ]
  },
  {
   "cell_type": "code",
   "execution_count": 154,
   "metadata": {},
   "outputs": [
    {
     "name": "stdout",
     "output_type": "stream",
     "text": [
      "      date elapsed_time  trip_distance  average_speed  maximum_speed  \\\n",
      "0   6/8/19      1:50:13          34.57           18.8           38.8   \n",
      "1   6/9/19      1:07:39          17.23           15.3           32.7   \n",
      "2  6/10/19       :47:47          16.45           20.7           36.8   \n",
      "4  6/12/19      1:45:41          35.15           19.9           39.5   \n",
      "5  6/13/19      1:55:31          35.05           18.2           40.3   \n",
      "\n",
      "   calorie_consumption  carbon_offset  total_distance  \n",
      "0                498.0           5.18            95.0  \n",
      "1                200.0           2.58           112.0  \n",
      "2                252.0           2.46           129.0  \n",
      "4                533.0           5.27           164.0  \n",
      "5                489.0           5.25           199.0  \n"
     ]
    }
   ],
   "source": [
    "print(speedometer.head())"
   ]
  },
  {
   "cell_type": "code",
   "execution_count": 157,
   "metadata": {},
   "outputs": [],
   "source": [
    "# for bike_sharing eliminate 12: in the duration column \n"
   ]
  },
  {
   "cell_type": "code",
   "execution_count": 161,
   "metadata": {},
   "outputs": [],
   "source": [
    "bike_sharing['elapsed_time'] = bike_sharing['elapsed_time'].str.replace('12:','')"
   ]
  },
  {
   "cell_type": "code",
   "execution_count": 162,
   "metadata": {},
   "outputs": [
    {
     "name": "stdout",
     "output_type": "stream",
     "text": [
      "         date initial_time  end_time elapsed_time  cost\n",
      "0  28/12/2019      9:58:42  10:05:53        07:11     0\n",
      "1  28/12/2019      6:38:35   6:41:57        03:22  0:35\n",
      "2  28/12/2019      4:11:11   4:14:35        03:24  0:35\n",
      "3  28/12/2019      2:24:55   2:44:15        19:20     0\n",
      "4  28/12/2019      1:58:12   2:08:08        09:56  0:35\n"
     ]
    }
   ],
   "source": [
    "print(bike_sharing.head())"
   ]
  },
  {
   "cell_type": "code",
   "execution_count": 163,
   "metadata": {},
   "outputs": [
    {
     "name": "stdout",
     "output_type": "stream",
     "text": [
      "      date elapsed_time  trip_distance  average_speed  maximum_speed  \\\n",
      "0   6/8/19      1:50:13          34.57           18.8           38.8   \n",
      "1   6/9/19      1:07:39          17.23           15.3           32.7   \n",
      "2  6/10/19       :47:47          16.45           20.7           36.8   \n",
      "4  6/12/19      1:45:41          35.15           19.9           39.5   \n",
      "5  6/13/19      1:55:31          35.05           18.2           40.3   \n",
      "\n",
      "   calorie_consumption  carbon_offset  total_distance  \n",
      "0                498.0           5.18            95.0  \n",
      "1                200.0           2.58           112.0  \n",
      "2                252.0           2.46           129.0  \n",
      "4                533.0           5.27           164.0  \n",
      "5                489.0           5.25           199.0  \n"
     ]
    }
   ],
   "source": [
    "print(speedometer.head())"
   ]
  },
  {
   "cell_type": "code",
   "execution_count": null,
   "metadata": {},
   "outputs": [],
   "source": [
    "# for speedometer: create a function that gives the total sum, max, min, average per day and month for elapsed_time,\n",
    "#trip_distance, average speed, maximum speed, calorie consumption, carbon offset, total distance"
   ]
  },
  {
   "cell_type": "code",
   "execution_count": 176,
   "metadata": {},
   "outputs": [
    {
     "ename": "TypeError",
     "evalue": "cannot convert the series to <class 'int'>",
     "output_type": "error",
     "traceback": [
      "\u001b[0;31m---------------------------------------------------------------------------\u001b[0m",
      "\u001b[0;31mTypeError\u001b[0m                                 Traceback (most recent call last)",
      "\u001b[0;32m<ipython-input-176-577e83a9da3d>\u001b[0m in \u001b[0;36m<module>\u001b[0;34m\u001b[0m\n\u001b[0;32m----> 1\u001b[0;31m \u001b[0mdt_object\u001b[0m \u001b[0;34m=\u001b[0m \u001b[0mdt\u001b[0m\u001b[0;34m.\u001b[0m\u001b[0mdatetime\u001b[0m\u001b[0;34m(\u001b[0m\u001b[0mspeedometer\u001b[0m\u001b[0;34m[\u001b[0m\u001b[0;34m'elapsed_time'\u001b[0m\u001b[0;34m]\u001b[0m\u001b[0;34m)\u001b[0m\u001b[0;34m\u001b[0m\u001b[0;34m\u001b[0m\u001b[0m\n\u001b[0m\u001b[1;32m      2\u001b[0m \u001b[0mdt_string\u001b[0m \u001b[0;34m=\u001b[0m \u001b[0mdt_object\u001b[0m\u001b[0;34m.\u001b[0m\u001b[0mstrftime\u001b[0m\u001b[0;34m(\u001b[0m\u001b[0;34m\"%H:%M:%S\"\u001b[0m\u001b[0;34m)\u001b[0m\u001b[0;34m\u001b[0m\u001b[0;34m\u001b[0m\u001b[0m\n\u001b[1;32m      3\u001b[0m \u001b[0mdt_object\u001b[0m\u001b[0;34m.\u001b[0m\u001b[0mstrftime\u001b[0m\u001b[0;34m(\u001b[0m\u001b[0;34m\"%d/%m/%Y\"\u001b[0m\u001b[0;34m)\u001b[0m\u001b[0;34m\u001b[0m\u001b[0;34m\u001b[0m\u001b[0m\n\u001b[1;32m      4\u001b[0m \u001b[0mprint\u001b[0m\u001b[0;34m(\u001b[0m\u001b[0mdt_string\u001b[0m\u001b[0;34m)\u001b[0m\u001b[0;34m\u001b[0m\u001b[0;34m\u001b[0m\u001b[0m\n\u001b[1;32m      5\u001b[0m \u001b[0;34m\u001b[0m\u001b[0m\n",
      "\u001b[0;32m/opt/anaconda3/lib/python3.7/site-packages/pandas/core/series.py\u001b[0m in \u001b[0;36mwrapper\u001b[0;34m(self)\u001b[0m\n\u001b[1;32m    129\u001b[0m         \u001b[0;32mif\u001b[0m \u001b[0mlen\u001b[0m\u001b[0;34m(\u001b[0m\u001b[0mself\u001b[0m\u001b[0;34m)\u001b[0m \u001b[0;34m==\u001b[0m \u001b[0;36m1\u001b[0m\u001b[0;34m:\u001b[0m\u001b[0;34m\u001b[0m\u001b[0;34m\u001b[0m\u001b[0m\n\u001b[1;32m    130\u001b[0m             \u001b[0;32mreturn\u001b[0m \u001b[0mconverter\u001b[0m\u001b[0;34m(\u001b[0m\u001b[0mself\u001b[0m\u001b[0;34m.\u001b[0m\u001b[0miloc\u001b[0m\u001b[0;34m[\u001b[0m\u001b[0;36m0\u001b[0m\u001b[0;34m]\u001b[0m\u001b[0;34m)\u001b[0m\u001b[0;34m\u001b[0m\u001b[0;34m\u001b[0m\u001b[0m\n\u001b[0;32m--> 131\u001b[0;31m         \u001b[0;32mraise\u001b[0m \u001b[0mTypeError\u001b[0m\u001b[0;34m(\u001b[0m\u001b[0;34m\"cannot convert the series to \"\u001b[0m \u001b[0;34m\"{0}\"\u001b[0m\u001b[0;34m.\u001b[0m\u001b[0mformat\u001b[0m\u001b[0;34m(\u001b[0m\u001b[0mstr\u001b[0m\u001b[0;34m(\u001b[0m\u001b[0mconverter\u001b[0m\u001b[0;34m)\u001b[0m\u001b[0;34m)\u001b[0m\u001b[0;34m)\u001b[0m\u001b[0;34m\u001b[0m\u001b[0;34m\u001b[0m\u001b[0m\n\u001b[0m\u001b[1;32m    132\u001b[0m \u001b[0;34m\u001b[0m\u001b[0m\n\u001b[1;32m    133\u001b[0m     \u001b[0mwrapper\u001b[0m\u001b[0;34m.\u001b[0m\u001b[0m__name__\u001b[0m \u001b[0;34m=\u001b[0m \u001b[0;34m\"__{name}__\"\u001b[0m\u001b[0;34m.\u001b[0m\u001b[0mformat\u001b[0m\u001b[0;34m(\u001b[0m\u001b[0mname\u001b[0m\u001b[0;34m=\u001b[0m\u001b[0mconverter\u001b[0m\u001b[0;34m.\u001b[0m\u001b[0m__name__\u001b[0m\u001b[0;34m)\u001b[0m\u001b[0;34m\u001b[0m\u001b[0;34m\u001b[0m\u001b[0m\n",
      "\u001b[0;31mTypeError\u001b[0m: cannot convert the series to <class 'int'>"
     ]
    }
   ],
   "source": [
    "dt_object = dt.datetime(speedometer['elapsed_time'])\n",
    "dt_string = dt_object.strftime(\"%H:%M:%S\")\n",
    "dt_object.strftime(\"%d/%m/%Y\")\n",
    "print(dt_string)\n",
    "    \n",
    "\n",
    "\n",
    "#total_elapsed_time = dt.time.speedometer['elapsed_time'].sum()\n",
    "max_elapsed_time = speedometer['elapsed_time'].max()\n",
    "min_elapsed_time = speedometer['elapsed_time'].min()\n",
    "\n",
    "\n",
    "#print(total_elapsed_time)\n",
    "print(max_elapsed_time)\n",
    "print(min_elapsed_time)\n"
   ]
  },
  {
   "cell_type": "code",
   "execution_count": null,
   "metadata": {},
   "outputs": [],
   "source": [
    "# for bike_sharing: create a function that populates new columns [elapsed_time, trip_distance, average speed, \n",
    "#maximum speed, calorie consumption, carbon offset, total distance] based on speedometer averages "
   ]
  },
  {
   "cell_type": "code",
   "execution_count": null,
   "metadata": {},
   "outputs": [],
   "source": [
    "# for bike_sharing: create a function that gives the total sum, max, min, average per day and month for elapsed_time,\n",
    "#trip_distance, average speed, maximum speed, calorie consumption, carbon offset, total distance"
   ]
  },
  {
   "cell_type": "code",
   "execution_count": null,
   "metadata": {},
   "outputs": [],
   "source": [
    "# for speedometer and bike_sharing: select graph(s) "
   ]
  },
  {
   "cell_type": "markdown",
   "metadata": {},
   "source": [
    "I am going to draw up conclusions on the totals from the different data set. "
   ]
  },
  {
   "cell_type": "code",
   "execution_count": 3,
   "metadata": {},
   "outputs": [],
   "source": [
    "# combine speedometer and bike_sharing into a combined file\n",
    "# combined = ['date', 'elapse time', 'average speed', 'calorie_consumption','carbon_offset', total_distance]"
   ]
  },
  {
   "cell_type": "code",
   "execution_count": null,
   "metadata": {},
   "outputs": [],
   "source": [
    "# for combined: calculate general calculations including totals, mean, average"
   ]
  },
  {
   "cell_type": "code",
   "execution_count": null,
   "metadata": {},
   "outputs": [],
   "source": [
    "# fo combined: determine which graph(s) suits better"
   ]
  },
  {
   "cell_type": "markdown",
   "metadata": {},
   "source": [
    "conclusion"
   ]
  }
 ],
 "metadata": {
  "kernelspec": {
   "display_name": "Python 3",
   "language": "python",
   "name": "python3"
  },
  "language_info": {
   "codemirror_mode": {
    "name": "ipython",
    "version": 3
   },
   "file_extension": ".py",
   "mimetype": "text/x-python",
   "name": "python",
   "nbconvert_exporter": "python",
   "pygments_lexer": "ipython3",
   "version": "3.7.4"
  }
 },
 "nbformat": 4,
 "nbformat_minor": 2
}
